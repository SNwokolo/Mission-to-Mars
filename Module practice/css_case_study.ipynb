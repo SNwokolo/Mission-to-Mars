{
 "cells": [
  {
   "cell_type": "code",
   "execution_count": 1,
   "id": "443fae48",
   "metadata": {},
   "outputs": [],
   "source": [
    "from bs4 import BeautifulSoup as soup"
   ]
  },
  {
   "cell_type": "code",
   "execution_count": 2,
   "id": "f34bbf5b",
   "metadata": {},
   "outputs": [],
   "source": [
    "html = \"\"\"\n",
    "<!DOCTYPE html>\n",
    "<html lang=\"en\">\n",
    "\n",
    "<head>\n",
    "    <meta charset=\"UTF-8\">\n",
    "    <meta http-equiv=\"X-UA-Compatible\" content=\"IE=edge\">\n",
    "    <meta name=\"viewport\" content=\"width=device-width, initial-scale=1.0\">\n",
    "    <title>Document</title>\n",
    "</head>\n",
    "\n",
    "<style>\n",
    "    .even {\n",
    "        color: blue;\n",
    "    }\n",
    "\n",
    "    .odd {\n",
    "        color: green;\n",
    "    }\n",
    "</style>\n",
    "\n",
    "<body>\n",
    "    <div>\n",
    "        <p class=\"odd\" id=\"first\">First</p>\n",
    "        <p class=\"even\" id=\"second\">Second</p>\n",
    "        <p class=\"odd\" id=\"third\">Third</p>\n",
    "    </div>\n",
    "\n",
    "    <div>\n",
    "        <p class=\"even\" id=\"fourth\">Fourth</p>\n",
    "        <p class=\"odd\" id=\"fifth\">Fifth</p>\n",
    "        <p class=\"even\" id=\"sixth\">Sixth</p>\n",
    "    </div>\n",
    "</body>\n",
    "\n",
    "</html>\n",
    "\"\"\""
   ]
  },
  {
   "cell_type": "code",
   "execution_count": 3,
   "id": "80b9a0c7",
   "metadata": {},
   "outputs": [],
   "source": [
    "html_soup = soup(html, 'html.parser')"
   ]
  },
  {
   "cell_type": "code",
   "execution_count": 4,
   "id": "f7197540",
   "metadata": {},
   "outputs": [],
   "source": [
    "odds = html_soup.find_all(\"p\", class_=\"odd\")\n",
    "\n",
    "#Notice the underscore (_) at the end of class_. We use an underscore because class is a reserved wordLinks to an external site. in Python."
   ]
  },
  {
   "cell_type": "code",
   "execution_count": 5,
   "id": "2c9d23b3",
   "metadata": {},
   "outputs": [
    {
     "name": "stdout",
     "output_type": "stream",
     "text": [
      "<p class=\"odd\" id=\"first\">First</p>\n",
      "<p class=\"odd\" id=\"third\">Third</p>\n",
      "<p class=\"odd\" id=\"fifth\">Fifth</p>\n"
     ]
    }
   ],
   "source": [
    "for odd in odds:\n",
    "    print(odd)\n"
   ]
  },
  {
   "cell_type": "code",
   "execution_count": 8,
   "id": "085654ca",
   "metadata": {},
   "outputs": [],
   "source": [
    "odds_text = html_soup.find(\"p\", class_=\"odd\").text"
   ]
  },
  {
   "cell_type": "code",
   "execution_count": 9,
   "id": "3922c870",
   "metadata": {},
   "outputs": [
    {
     "name": "stdout",
     "output_type": "stream",
     "text": [
      "First\n",
      "First\n",
      "First\n",
      "First\n",
      "First\n"
     ]
    }
   ],
   "source": [
    "for text in odds_text:\n",
    "    print(odds_text)"
   ]
  },
  {
   "cell_type": "code",
   "execution_count": 10,
   "id": "61a8eb93",
   "metadata": {},
   "outputs": [
    {
     "name": "stdout",
     "output_type": "stream",
     "text": [
      "First\n"
     ]
    }
   ],
   "source": [
    "# Scrape the text from a paragraoh element that has an id of first\n",
    "first = html_soup.find(\"p\", id=\"first\")\n",
    "print(first.text)"
   ]
  },
  {
   "cell_type": "code",
   "execution_count": null,
   "id": "1c47736e",
   "metadata": {},
   "outputs": [],
   "source": []
  }
 ],
 "metadata": {
  "kernelspec": {
   "display_name": "PythonData",
   "language": "python",
   "name": "pythondata"
  },
  "language_info": {
   "codemirror_mode": {
    "name": "ipython",
    "version": 3
   },
   "file_extension": ".py",
   "mimetype": "text/x-python",
   "name": "python",
   "nbconvert_exporter": "python",
   "pygments_lexer": "ipython3",
   "version": "3.9.12"
  }
 },
 "nbformat": 4,
 "nbformat_minor": 5
}
