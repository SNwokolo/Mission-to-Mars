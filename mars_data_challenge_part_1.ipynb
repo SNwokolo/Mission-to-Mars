{
 "cells": [
  {
   "cell_type": "code",
   "execution_count": 1,
   "id": "0f9a1258",
   "metadata": {},
   "outputs": [],
   "source": [
    "# Import Splinter and BeautifulSoup\n",
    "from splinter import Browser\n",
    "from bs4 import BeautifulSoup as soup\n",
    "from webdriver_manager.chrome import ChromeDriverManager\n",
    "\n",
    "# Set up Splinter\n",
    "executable_path = {'executable_path': ChromeDriverManager().install()}\n",
    "browser = Browser('chrome', **executable_path, headless=False)"
   ]
  },
  {
   "cell_type": "code",
   "execution_count": 78,
   "id": "b5634f91",
   "metadata": {},
   "outputs": [
    {
     "name": "stdout",
     "output_type": "stream",
     "text": [
      "\n",
      "November 14, 2022\n",
      "Two Rovers to Roll on Mars Again: Curiosity and Mars 2020\n",
      "They look like twins. But under the hood, the rover currently exploring the Red Planet and the one launching there this summer have distinct science tools and roles to play.\n",
      "\n",
      "\n",
      "November 13, 2022\n",
      "The Launch Is Approaching for NASA's Next Mars Rover, Perseverance\n",
      "The Red Planet's surface has been visited by eight NASA spacecraft. The ninth will be the first that includes a roundtrip ticket in its flight plan. \n",
      "\n",
      "\n",
      "November 13, 2022\n",
      "NASA Invites Public to Share Excitement of Mars 2020 Perseverance Rover Launch\n",
      "There are lots of ways to participate in the historic event, which is targeted for July 30.\n",
      "\n",
      "\n",
      "November 9, 2022\n",
      "NASA Wins Two Emmy Awards for Interactive Mission Coverage\n",
      "NASA-JPL's coverage of the Mars InSight landing earns one of the two wins, making this the NASA center's second Emmy.\n",
      "\n",
      "\n",
      "November 8, 2022\n",
      "NASA's Perseverance Rover Bringing 3D-Printed Metal Parts to Mars\n",
      "For hobbyists and makers, 3D printing expands creative possibilities; for specialized engineers, it's also key to next-generation spacecraft design.\n",
      "\n",
      "\n",
      "November 5, 2022\n",
      "NASA's Mars 2020 Heads Into the Test Chamber\n",
      "In this time-lapse video taken at JPL, engineers move the Mars 2020 rover into a large vacuum chamber for testing in Mars-like environmental conditions.\n",
      "\n",
      "\n",
      "November 4, 2022\n",
      "A Year of Surprising Science From NASA's InSight Mars Mission\n",
      "A batch of new papers summarizes the lander's findings above and below the surface of the Red Planet.\n",
      "\n",
      "\n",
      "October 28, 2022\n",
      "NASA's Curiosity Rover Finds an Ancient Oasis on Mars\n",
      "New evidence suggests salty, shallow ponds once dotted a Martian crater — a sign of the planet's drying climate.\n",
      "\n",
      "\n",
      "October 22, 2022\n",
      "NASA to Hold Mars 2020 Perseverance Rover Launch Briefing\n",
      "Learn more about the agency's next Red Planet mission during a live event on June 17.\n",
      "\n",
      "\n",
      "October 20, 2022\n",
      "Alabama High School Student Names NASA's Mars Helicopter\n",
      "Vaneeza Rupani's essay was chosen as the name for the small spacecraft, which will mark NASA's first attempt at powered flight on another planet.\n",
      "\n",
      "\n",
      "October 20, 2022\n",
      "HiRISE Views NASA's InSight and Curiosity on Mars\n",
      "New images taken from space offer the clearest orbital glimpse yet of InSight as well as a view of Curiosity rolling along.\n",
      "\n",
      "\n",
      "October 19, 2022\n",
      "NASA Readies Perseverance Mars Rover's Earthly Twin \n",
      "Did you know NASA's next Mars rover has a nearly identical sibling on Earth for testing? Even better, it's about to roll for the first time through a replica Martian landscape.\n",
      "\n",
      "\n",
      "October 18, 2022\n",
      "Two of a Space Kind: Apollo 12 and Mars 2020\n",
      "Apollo 12 and the upcoming Mars 2020 mission may be separated by half a century, but they share several goals unique in the annals of space exploration.\n",
      "\n",
      "\n",
      "October 18, 2022\n",
      "MAVEN Maps Electric Currents around Mars that are Fundamental to Atmospheric Loss\n",
      "Five years after NASA’s MAVEN spacecraft entered into orbit around Mars, data from the mission has led to the creation of a map of electric current systems in the Martian atmosphere.\n",
      "\n",
      "\n",
      "October 18, 2022\n",
      "The MarCO Mission Comes to an End\n",
      "The pair of briefcase-sized satellites made history when they sailed past Mars in 2019.\n",
      "\n"
     ]
    }
   ],
   "source": [
    "# Visit the Mars NASA news site\n",
    "url = 'https://redplanetscience.com'\n",
    "browser.visit(url)\n",
    "# Extract the html code\n",
    "html = browser.html\n",
    "html_soup = soup(html, 'html.parser')\n",
    "articles = html_soup.find_all('div', class_='list_text')\n",
    "for article in articles:\n",
    "    print(article.text)"
   ]
  },
  {
   "cell_type": "code",
   "execution_count": 77,
   "id": "227938d7",
   "metadata": {},
   "outputs": [
    {
     "name": "stdout",
     "output_type": "stream",
     "text": [
      "{'titles': 'Naming a NASA Mars Rover Can Change Your Life', 'previews': 'Want to name the robotic scientist NASA is sending to Mars in 2020? The student who named Curiosity — the rover currently exploring Mars — will tell you this is an opportunity worth taking.'}\n",
      "{'titles': \"NASA InSight's 'Mole' Is Out of Sight\", 'previews': \"Now that the heat probe is just below the Martian surface, InSight's arm will scoop some additional soil on top to help it keep digging so it can take Mars' temperature.\"}\n",
      "{'titles': \"Q&A with the Student Who Named Ingenuity, NASA's Mars Helicopter\", 'previews': 'As a longtime fan of space exploration, Vaneeza Rupani appreciates the creativity and collaboration involved with trying to fly on another planet.'}\n",
      "{'titles': \"The Detective Aboard NASA's Perseverance Rover\", 'previews': 'An instrument called SHERLOC will, with the help of its partner WATSON, hunt for signs of ancient life by detecting organic molecules and minerals.'}\n",
      "{'titles': \"A Martian Roundtrip: NASA's Perseverance Rover Sample Tubes\", 'previews': \"Marvels of engineering, the rover's sample tubes must be tough enough to safely bring Red Planet samples on the long journey back to Earth in immaculate condition. \"}\n",
      "{'titles': \"Three New Views of Mars' Moon Phobos\", 'previews': \"Taken with the infrared camera aboard NASA's Odyssey orbiter, they reveal temperature variations on the small moon as it drifts into and out of Mars’ shadow.\"}\n",
      "{'titles': 'MOXIE Could Help Future Rockets Launch Off Mars', 'previews': \"NASA's Perseverance rover carries a device to convert Martian air into oxygen that, if produced on a larger scale, could be used not just for breathing, but also for fuel.\"}\n",
      "{'titles': \"NASA's Perseverance Rover Is Midway to Mars \", 'previews': \"Sometimes half measures can be a good thing – especially on a journey this long. The agency's latest rover only has about 146 million miles left to reach its destination.\"}\n",
      "{'titles': \"NASA's MAVEN Maps Winds in the Martian Upper Atmosphere that Mirror the Terrain Below and Gives Clues to Martian Climate\", 'previews': 'Researchers have created the first map of wind circulation in the upper atmosphere of a planet besides Earth, using data from NASA’s MAVEN spacecraft that were collected during the last two years.'}\n",
      "{'titles': \"The Extraordinary Sample-Gathering System of NASA's Perseverance Mars Rover\", 'previews': 'Two astronauts collected Moon rocks on Apollo 11. It will take three robotic systems working together to gather up the first Mars rock samples for return to Earth.'}\n",
      "{'titles': \"NASA's New Mars Rover Is Ready for Space Lasers\", 'previews': 'Perseverance is one of a few Mars spacecraft carrying laser retroreflectors. The devices could provide new science and safer Mars landings in the future.'}\n",
      "{'titles': 'NASA to Reveal Name of Its Next Mars Rover', 'previews': \"After a months-long contest among students to name NASA's newest Mars rover, the agency will reveal the winning name — and the winning student — this Thursday. \"}\n",
      "{'titles': \"NASA's Perseverance Rover Will Carry First Spacesuit Materials to Mars\", 'previews': 'In a Q&A, spacesuit designer Amy Ross explains how five samples, including a piece of helmet visor, will be tested aboard the rover, which is targeting a July 30 launch. '}\n",
      "{'titles': \"NASA's Perseverance Mars Rover Gets Its Wheels and Air Brakes\", 'previews': 'After the rover was shipped from JPL to Kennedy Space Center, the team is getting closer to finalizing the spacecraft for launch later this summer.'}\n",
      "{'titles': \"NASA's Mars 2020 Rover Closer to Getting Its Name\", 'previews': \"155 students from across the U.S. have been chosen as semifinalists in NASA's essay contest to name the Mars 2020 rover, and see it launch from Cape Canaveral this July.\"}\n"
     ]
    }
   ],
   "source": [
    "articles = html_soup.find_all('div', class_='list_text')\n",
    "\n",
    "\n",
    "for article in articles:\n",
    "    mars_dict = {}\n",
    "    heading =article.find('div', class_='content_title').text\n",
    "    p_text = article.find('div', class_='article_teaser_body').text\n",
    "    mars_dict[\"titles\"] = heading\n",
    "    mars_dict[\"previews\"] = p_text\n",
    "    print(mars_dict)\n"
   ]
  }
 ],
 "metadata": {
  "kernelspec": {
   "display_name": "PythonData",
   "language": "python",
   "name": "pythondata"
  },
  "language_info": {
   "codemirror_mode": {
    "name": "ipython",
    "version": 3
   },
   "file_extension": ".py",
   "mimetype": "text/x-python",
   "name": "python",
   "nbconvert_exporter": "python",
   "pygments_lexer": "ipython3",
   "version": "3.9.12"
  }
 },
 "nbformat": 4,
 "nbformat_minor": 5
}
